{
 "cells": [
  {
   "cell_type": "markdown",
   "metadata": {},
   "source": [
    "## 使用训练后的模型在验证集上进行推理"
   ]
  },
  {
   "cell_type": "code",
   "execution_count": 1,
   "metadata": {
    "ExecuteTime": {
     "end_time": "2020-06-11T13:51:53.180424Z",
     "start_time": "2020-06-11T13:51:48.951064Z"
    }
   },
   "outputs": [
    {
     "name": "stderr",
     "output_type": "stream",
     "text": [
      "/home/shaw/anaconda3/envs/hw4/lib/python3.7/site-packages/tqdm/auto.py:22: TqdmWarning: IProgress not found. Please update jupyter and ipywidgets. See https://ipywidgets.readthedocs.io/en/stable/user_install.html\n",
      "  from .autonotebook import tqdm as notebook_tqdm\n"
     ]
    }
   ],
   "source": [
    "import os\n",
    "\n",
    "import numpy as np\n",
    "import torch\n",
    "from matplotlib import pyplot as plt\n",
    "from matplotlib.backends.backend_agg import FigureCanvasAgg\n",
    "from medpy.filter.binary import largest_connected_component\n",
    "from skimage.io import imsave\n",
    "from torch.utils.data import DataLoader\n",
    "\n",
    "from dataset import BrainSegmentationDataset as Dataset\n",
    "from unet import UNet\n",
    "from utils import dsc, gray2rgb, outline"
   ]
  },
  {
   "cell_type": "code",
   "execution_count": 2,
   "metadata": {
    "ExecuteTime": {
     "end_time": "2020-06-11T13:51:53.211553Z",
     "start_time": "2020-06-11T13:51:53.183003Z"
    }
   },
   "outputs": [],
   "source": [
    "# 读取数据\n",
    "def data_loader(args):\n",
    "    dataset = Dataset(\n",
    "        images_dir=args.images,\n",
    "        subset=\"validation\",\n",
    "        image_size=args.image_size,\n",
    "        random_sampling=False,\n",
    "    )\n",
    "    loader = DataLoader(\n",
    "        dataset, batch_size=args.batch_size, drop_last=False, num_workers=1\n",
    "    )\n",
    "    return loader\n",
    "\n",
    "# 数据预处理\n",
    "def postprocess_per_volume(\n",
    "    input_list, pred_list, true_list, patient_slice_index, patients\n",
    "):\n",
    "    volumes = {}\n",
    "    num_slices = np.bincount([p[0] for p in patient_slice_index])\n",
    "    index = 0\n",
    "    for p in range(len(num_slices)):\n",
    "        volume_in = np.array(input_list[index : index + num_slices[p]])\n",
    "        volume_pred = np.round(\n",
    "            np.array(pred_list[index : index + num_slices[p]])\n",
    "        ).astype(int)\n",
    "        volume_pred = largest_connected_component(volume_pred)\n",
    "        volume_true = np.array(true_list[index : index + num_slices[p]])\n",
    "        volumes[patients[p]] = (volume_in, volume_pred, volume_true)\n",
    "        index += num_slices[p]\n",
    "    return volumes\n",
    "\n",
    "# 计算统计结果(dice coefficient)\n",
    "def dsc_distribution(volumes):\n",
    "    dsc_dict = {}\n",
    "    for p in volumes:\n",
    "        y_pred = volumes[p][1]\n",
    "        y_true = volumes[p][2]\n",
    "        dsc_dict[p] = dsc(y_pred, y_true, lcc=False)\n",
    "    return dsc_dict\n",
    "\n",
    "# 绘图\n",
    "def plot_dsc(dsc_dist):\n",
    "    y_positions = np.arange(len(dsc_dist))\n",
    "    dsc_dist = sorted(dsc_dist.items(), key=lambda x: x[1])\n",
    "    values = [x[1] for x in dsc_dist]\n",
    "    labels = [x[0] for x in dsc_dist]\n",
    "    labels = [\"_\".join(l.split(\"_\")[1:-1]) for l in labels]\n",
    "    fig = plt.figure(figsize=(12, 8))\n",
    "    canvas = FigureCanvasAgg(fig)\n",
    "    plt.barh(y_positions, values, align=\"center\", color=\"skyblue\")\n",
    "    plt.yticks(y_positions, labels)\n",
    "    plt.xticks(np.arange(0.0, 1.0, 0.1))\n",
    "    plt.xlim([0.0, 1.0])\n",
    "    plt.gca().axvline(np.mean(values), color=\"tomato\", linewidth=2)\n",
    "    plt.gca().axvline(np.median(values), color=\"forestgreen\", linewidth=2)\n",
    "    plt.xlabel(\"Dice coefficient\", fontsize=\"x-large\")\n",
    "    plt.gca().xaxis.grid(color=\"silver\", alpha=0.5, linestyle=\"--\", linewidth=1)\n",
    "    plt.tight_layout()\n",
    "    canvas.draw()\n",
    "    plt.close()\n",
    "    s, (width, height) = canvas.print_to_buffer()\n",
    "    return np.fromstring(s, np.uint8).reshape((height, width, 4))\n",
    "\n",
    "# 创建路径\n",
    "def makedirs(args):\n",
    "    os.makedirs(args.predictions, exist_ok=True)"
   ]
  },
  {
   "cell_type": "code",
   "execution_count": 3,
   "metadata": {
    "ExecuteTime": {
     "end_time": "2020-06-11T13:51:53.256508Z",
     "start_time": "2020-06-11T13:51:53.214026Z"
    }
   },
   "outputs": [],
   "source": [
    "def main(args):\n",
    "    makedirs(args)\n",
    "    device = torch.device(\"cpu\" if not torch.cuda.is_available() else args.device)\n",
    "\n",
    "    loader = data_loader(args)\n",
    "\n",
    "    with torch.set_grad_enabled(False):\n",
    "        unet = UNet(in_channels=Dataset.in_channels, out_channels=Dataset.out_channels)\n",
    "        state_dict = torch.load(args.weights, map_location=device)\n",
    "        unet.load_state_dict(state_dict)\n",
    "        unet.eval()\n",
    "        unet.to(device)\n",
    "\n",
    "        input_list = []\n",
    "        pred_list = []\n",
    "        true_list = []\n",
    "\n",
    "        for i, data in enumerate(loader):\n",
    "            x, y_true = data\n",
    "            x, y_true = x.to(device), y_true.to(device)\n",
    "\n",
    "            y_pred = unet(x)\n",
    "            y_pred_np = y_pred.detach().cpu().numpy()\n",
    "            pred_list.extend([y_pred_np[s] for s in range(y_pred_np.shape[0])])\n",
    "\n",
    "            y_true_np = y_true.detach().cpu().numpy()\n",
    "            true_list.extend([y_true_np[s] for s in range(y_true_np.shape[0])])\n",
    "\n",
    "            x_np = x.detach().cpu().numpy()\n",
    "            input_list.extend([x_np[s] for s in range(x_np.shape[0])])\n",
    "\n",
    "    volumes = postprocess_per_volume(\n",
    "        input_list,\n",
    "        pred_list,\n",
    "        true_list,\n",
    "        loader.dataset.patient_slice_index,\n",
    "        loader.dataset.patients,\n",
    "    )\n",
    "\n",
    "    dsc_dist = dsc_distribution(volumes)\n",
    "\n",
    "    dsc_dist_plot = plot_dsc(dsc_dist)\n",
    "    imsave(args.figure, dsc_dist_plot)\n",
    "\n",
    "    for p in volumes:\n",
    "        x = volumes[p][0]\n",
    "        y_pred = volumes[p][1]\n",
    "        y_true = volumes[p][2]\n",
    "        for s in range(x.shape[0]):\n",
    "            image = gray2rgb(x[s, 1])  # channel 1 is for FLAIR\n",
    "            image = outline(image, y_pred[s, 0], color=[255, 0, 0])\n",
    "            image = outline(image, y_true[s, 0], color=[0, 255, 0])\n",
    "            filename = \"{}-{}.png\".format(p, str(s).zfill(2))\n",
    "            filepath = os.path.join(args.predictions, filename)\n",
    "            imsave(filepath, image)"
   ]
  },
  {
   "attachments": {},
   "cell_type": "markdown",
   "metadata": {},
   "source": [
    "### 输入参数"
   ]
  },
  {
   "attachments": {},
   "cell_type": "markdown",
   "metadata": {},
   "source": [
    "device: 设备编号  \n",
    "batch_size: 批大小  \n",
    "weights: 训练后的模型参数路径  \n",
    "images: 数据集路径  \n",
    "image_size: 图像尺寸   \n",
    "predictions: 推理结果的保存路径  \n",
    "figure: 统计结果(Dice Coefficient)的保存路径 "
   ]
  },
  {
   "cell_type": "code",
   "execution_count": 4,
   "metadata": {
    "ExecuteTime": {
     "end_time": "2020-06-11T13:51:56.993784Z",
     "start_time": "2020-06-11T13:51:53.259440Z"
    }
   },
   "outputs": [
    {
     "name": "stdout",
     "output_type": "stream",
     "text": [
      "reading validation images...\n",
      "preprocessing validation volumes...\n",
      "cropping validation volumes...\n",
      "padding validation volumes...\n",
      "resizing validation volumes...\n"
     ]
    },
    {
     "name": "stderr",
     "output_type": "stream",
     "text": [
      "10it [00:07,  1.30it/s]00:07<00:06,  1.36s/it]\n",
      "100%|██████████| 10/10 [00:07<00:00,  1.30it/s]\n"
     ]
    },
    {
     "name": "stdout",
     "output_type": "stream",
     "text": [
      "normalizing validation volumes...\n",
      "done creating validation dataset\n"
     ]
    },
    {
     "name": "stderr",
     "output_type": "stream",
     "text": [
      "/home/shaw/anaconda3/envs/hw4/lib/python3.7/site-packages/ipykernel_launcher.py:62: DeprecationWarning: The binary mode of fromstring is deprecated, as it behaves surprisingly on unicode inputs. Use frombuffer instead\n",
      "/home/shaw/anaconda3/envs/hw4/lib/python3.7/site-packages/skimage/io/_io.py:140: UserWarning: ./predictions/TCGA_DU_7014_19860618-57.png is a low contrast image\n",
      "  warn('%s is a low contrast image' % fname)\n",
      "/home/shaw/anaconda3/envs/hw4/lib/python3.7/site-packages/skimage/io/_io.py:140: UserWarning: ./predictions/TCGA_DU_6408_19860521-51.png is a low contrast image\n",
      "  warn('%s is a low contrast image' % fname)\n",
      "/home/shaw/anaconda3/envs/hw4/lib/python3.7/site-packages/skimage/io/_io.py:140: UserWarning: ./predictions/TCGA_DU_6408_19860521-52.png is a low contrast image\n",
      "  warn('%s is a low contrast image' % fname)\n",
      "/home/shaw/anaconda3/envs/hw4/lib/python3.7/site-packages/skimage/io/_io.py:140: UserWarning: ./predictions/TCGA_DU_6408_19860521-53.png is a low contrast image\n",
      "  warn('%s is a low contrast image' % fname)\n",
      "/home/shaw/anaconda3/envs/hw4/lib/python3.7/site-packages/skimage/io/_io.py:140: UserWarning: ./predictions/TCGA_DU_6404_19850629-50.png is a low contrast image\n",
      "  warn('%s is a low contrast image' % fname)\n",
      "/home/shaw/anaconda3/envs/hw4/lib/python3.7/site-packages/skimage/io/_io.py:140: UserWarning: ./predictions/TCGA_DU_5851_19950428-34.png is a low contrast image\n",
      "  warn('%s is a low contrast image' % fname)\n"
     ]
    }
   ],
   "source": [
    "# class Args:\n",
    "#     device = 'cuda:0'\n",
    "#     batch_size = 32\n",
    "#     weights = './weights/unet.pt'\n",
    "#     images = './kaggle_3m'\n",
    "#     image_size = 256\n",
    "#     predictions = './predictions'\n",
    "#     figure = './dsc.png'\n",
    "\n",
    "class Args:\n",
    "    device = 'cuda:0'\n",
    "    batch_size = 16\n",
    "    weights = './weights/unet.pt'\n",
    "    images = './kaggle_3m'\n",
    "    image_size = 256\n",
    "    predictions = './predictions'\n",
    "    figure = './dsc.png'\n",
    "\n",
    "args=Args()\n",
    "main(args)"
   ]
  }
 ],
 "metadata": {
  "kernelspec": {
   "display_name": "hw4",
   "language": "python",
   "name": "python3"
  },
  "language_info": {
   "codemirror_mode": {
    "name": "ipython",
    "version": 3
   },
   "file_extension": ".py",
   "mimetype": "text/x-python",
   "name": "python",
   "nbconvert_exporter": "python",
   "pygments_lexer": "ipython3",
   "version": "3.7.15"
  },
  "vscode": {
   "interpreter": {
    "hash": "2c0320eb256ba64eacabcd1ec12a7238ffea5e72c69f4ba9239d61a6bec1daac"
   }
  }
 },
 "nbformat": 4,
 "nbformat_minor": 2
}
