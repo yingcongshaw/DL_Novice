{
 "cells": [
  {
   "cell_type": "code",
   "execution_count": 4,
   "metadata": {},
   "outputs": [],
   "source": [
    "from utils import *\n",
    "from skimage.metrics import peak_signal_noise_ratio, structural_similarity\n",
    "from datasets import SRDataset\n",
    "from easydict import EasyDict as edict"
   ]
  },
  {
   "cell_type": "code",
   "execution_count": 5,
   "metadata": {},
   "outputs": [],
   "source": [
    "# Data parameters\n",
    "csv_folder = './SRDataset'  # folder with CSV data files\n",
    "test_data_names = [\"Set5\", \"Set14\", \"B100\", \"Urban100\", \"valid\"]\n",
    "HR_data_folders = ['./SRDataset/benchmark/Set5/HR',\n",
    "                  './SRDataset/benchmark/Set14/HR',\n",
    "                  './SRDataset/benchmark/B100/HR',\n",
    "                  './SRDataset/benchmark/Urban100/HR',\n",
    "                  './SRDataset/div2k/DIV2K_valid_HR']\n",
    "LR_data_folders = ['./SRDataset/benchmark/Set5/LR_bicubic/X4',\n",
    "                  './SRDataset/benchmark/Set14/LR_bicubic/X4',\n",
    "                  './SRDataset/benchmark/B100/LR_bicubic/X4',\n",
    "                  './SRDataset/benchmark/Urban100/LR_bicubic/X4',\n",
    "                  './SRDataset/div2k/DIV2K_valid_LR_bicubic/X4']\n",
    "srgan_checkpoint = \"./output/1/checkpoint_srgan.200.pth.tar\"\n",
    "scaling_factor = 4\n",
    "device = torch.device(\"cuda:0\" if torch.cuda.is_available() else \"cpu\")"
   ]
  },
  {
   "cell_type": "code",
   "execution_count": 6,
   "metadata": {},
   "outputs": [],
   "source": [
    "srgan_generator = torch.load(srgan_checkpoint)['generator'].to(device)\n",
    "srgan_generator.eval()\n",
    "model = srgan_generator"
   ]
  },
  {
   "cell_type": "code",
   "execution_count": 7,
   "metadata": {},
   "outputs": [
    {
     "name": "stdout",
     "output_type": "stream",
     "text": [
      "\n",
      "For Set5:\n",
      "\n",
      "PSNR - 26.244\n",
      "SSIM - 0.834\n",
      "\n",
      "For Set14:\n",
      "\n",
      "PSNR - 24.698\n",
      "SSIM - 0.728\n",
      "\n",
      "For B100:\n",
      "\n",
      "PSNR - 24.630\n",
      "SSIM - 0.688\n",
      "\n",
      "For Urban100:\n",
      "\n",
      "PSNR - 22.613\n",
      "SSIM - 0.703\n",
      "\n",
      "For valid:\n",
      "\n",
      "PSNR - 25.473\n",
      "SSIM - 0.776\n",
      "\n",
      "\n"
     ]
    }
   ],
   "source": [
    "# Evaluate\n",
    "for i in range(len(test_data_names)):\n",
    "    print(\"\\nFor %s:\\n\" % test_data_names[i])\n",
    "    # Custom dataloader\n",
    "    config = edict()\n",
    "    config.csv_folder = csv_folder\n",
    "    config.HR_data_folder = HR_data_folders[i]\n",
    "    config.LR_data_folder = LR_data_folders[i]\n",
    "    config.crop_size = 0\n",
    "    config.scaling_factor = scaling_factor\n",
    "    test_dataset = SRDataset(split=test_data_names[i], config=config)\n",
    "    test_loader = torch.utils.data.DataLoader(test_dataset,\n",
    "                                              batch_size=1,\n",
    "                                              shuffle=False,\n",
    "                                              num_workers=4,\n",
    "                                              pin_memory=True)\n",
    "    PSNRs = AverageMeter()\n",
    "    SSIMs = AverageMeter()\n",
    "    with torch.no_grad():\n",
    "        for i, (lr_imgs, hr_imgs) in enumerate(test_loader):\n",
    "            lr_imgs = lr_imgs.to(device)\n",
    "            hr_imgs = hr_imgs.to(device)\n",
    "            lr_imgs = convert_image(lr_imgs, source='[0, 1]', target='imagenet-norm', device=device)\n",
    "            hr_imgs = convert_image(hr_imgs, source='[0, 1]', target='[-1, 1]', device=device)\n",
    "            \n",
    "            sr_imgs = model(lr_imgs)\n",
    "            \n",
    "            sr_imgs_y = convert_image(sr_imgs, source='[-1, 1]', target='y-channel', device=device).squeeze(0)\n",
    "            hr_imgs_y = convert_image(hr_imgs, source='[-1, 1]', target='y-channel', device=device).squeeze(0)\n",
    "            psnr = peak_signal_noise_ratio(hr_imgs_y.cpu().numpy(), sr_imgs_y.cpu().numpy(), data_range=255.)\n",
    "            ssim = structural_similarity(hr_imgs_y.cpu().numpy(), sr_imgs_y.cpu().numpy(), data_range=255.)\n",
    "            PSNRs.update(psnr, lr_imgs.size(0))\n",
    "            SSIMs.update(ssim, lr_imgs.size(0))\n",
    "            \n",
    "    # Print average PSNR and SSIM\n",
    "    print('PSNR - {psnrs.avg:.3f}'.format(psnrs=PSNRs))\n",
    "    print('SSIM - {ssims.avg:.3f}'.format(ssims=SSIMs))\n",
    "\n",
    "print(\"\\n\")"
   ]
  },
  {
   "cell_type": "code",
   "execution_count": 9,
   "metadata": {},
   "outputs": [
    {
     "data": {
      "image/png": "[encoded data removed]",
      "text/plain": [
       "<Figure size 1000x600 with 1 Axes>"
      ]
     },
     "metadata": {},
     "output_type": "display_data"
    }
   ],
   "source": [
    "import matplotlib.pyplot as plt\n",
    "\n",
    "#数据来源：参见上面的运行结果\n",
    "psnr = [26.244, 24.698, 24.630, 22.613, 25.473]\n",
    "ssim = [0.834, 0.728, 0.688, 0.703, 0.776]\n",
    "\n",
    "plt.rcParams['font.sans-serif']=['SimHei']\n",
    "fig, ax = plt.subplots(figsize=(10,6), dpi=100)\n",
    "ax.plot(range(5), psnr, marker='s', label ='PSNR')\n",
    "ax.plot(range(5), ssim, marker='s', label ='SSIM')\n",
    "# ax.axvline(12,0,1, linestyle='--', c='g')\n",
    "# plt.xlabel('epoch', fontsize=16)\n",
    "# plt.xticks(fontsize=12)\n",
    "# plt.ylabel('loss', fontsize=16)\n",
    "# plt.yticks(fontsize=12)\n",
    "plt.legend()\n",
    "plt.show()"
   ]
  }
 ],
 "metadata": {
  "kernelspec": {
   "display_name": "hw5",
   "language": "python",
   "name": "python3"
  },
  "language_info": {
   "codemirror_mode": {
    "name": "ipython",
    "version": 3
   },
   "file_extension": ".py",
   "mimetype": "text/x-python",
   "name": "python",
   "nbconvert_exporter": "python",
   "pygments_lexer": "ipython3",
   "version": "3.9.15 (main, Nov 24 2022, 14:31:59) \n[GCC 11.2.0]"
  },
  "vscode": {
   "interpreter": {
    "hash": "47cc77ccb95c7fd43807833e0189f795ed1dc22527883a9bac3e967d50ef7241"
   }
  }
 },
 "nbformat": 4,
 "nbformat_minor": 4
}
